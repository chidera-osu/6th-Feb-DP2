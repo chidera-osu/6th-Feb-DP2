{
 "cells": [
  {
   "cell_type": "markdown",
   "id": "308eb5aa",
   "metadata": {},
   "source": [
    "## Functions"
   ]
  },
  {
   "cell_type": "markdown",
   "id": "d6c60799",
   "metadata": {},
   "source": [
    "A function is a chuck of reusable code"
   ]
  },
  {
   "cell_type": "code",
   "execution_count": 1,
   "id": "fb425311",
   "metadata": {},
   "outputs": [],
   "source": [
    "def function_name(parameters):\n",
    "    ''''docstring'''\n",
    "\n",
    "    value = 1 \n",
    "    return value "
   ]
  },
  {
   "cell_type": "markdown",
   "id": "fa41c79c",
   "metadata": {},
   "source": [
    "- `def`  is the start of the function\n",
    "- `function_name` name given \n",
    "- `parameters and arguments` the value that we pass\n",
    "- `docstring` is optional documentation \n",
    "- `return` returns a value, not always needed"
   ]
  },
  {
   "cell_type": "markdown",
   "id": "a583a618",
   "metadata": {},
   "source": [
    "`built in functions` - print(), len(), range() \n",
    "`use defined function` - \n"
   ]
  },
  {
   "cell_type": "code",
   "execution_count": 2,
   "id": "d1bc7395",
   "metadata": {},
   "outputs": [
    {
     "name": "stdout",
     "output_type": "stream",
     "text": [
      "Hello World, welcome to my program!\n"
     ]
    }
   ],
   "source": [
    "def greet():\n",
    "    ''''Display a greeting'''\n",
    "    print('Hello World, welcome to my program!')\n",
    "greet()"
   ]
  },
  {
   "cell_type": "markdown",
   "id": "eeb5ff90",
   "metadata": {},
   "source": [
    "Function with a return value\n"
   ]
  },
  {
   "cell_type": "code",
   "execution_count": 3,
   "id": "59377038",
   "metadata": {},
   "outputs": [
    {
     "name": "stdout",
     "output_type": "stream",
     "text": [
      "57\n"
     ]
    }
   ],
   "source": [
    "def add_number(num1, num2):\n",
    "    ''''Return the total of two nums'''\n",
    "    return num1+num2\n",
    "result = add_number(12,45)\n",
    "print(result)"
   ]
  },
  {
   "cell_type": "markdown",
   "id": "21610ace",
   "metadata": {},
   "source": [
    "## Functions with Default Parameters \n"
   ]
  },
  {
   "cell_type": "code",
   "execution_count": null,
   "id": "089c2208",
   "metadata": {},
   "outputs": [],
   "source": [
    "def greet(name, msg = 'Good day to you'):\n",
    "    \"\"\"\"Display a personalized greeting\"\"\"\n",
    "    print(f'Hello {name}. {msg}')"
   ]
  },
  {
   "cell_type": "code",
   "execution_count": 8,
   "id": "56756a02",
   "metadata": {},
   "outputs": [
    {
     "name": "stdout",
     "output_type": "stream",
     "text": [
      "Hello Alex. Good day to you\n"
     ]
    }
   ],
   "source": [
    "greet('Alex')"
   ]
  },
  {
   "cell_type": "code",
   "execution_count": 9,
   "id": "5d201cf9",
   "metadata": {},
   "outputs": [
    {
     "name": "stdout",
     "output_type": "stream",
     "text": [
      "Hello Alex. Lets go!\n"
     ]
    }
   ],
   "source": [
    "greet('Alex', 'Lets go!')"
   ]
  },
  {
   "cell_type": "code",
   "execution_count": 10,
   "id": "f4666f36",
   "metadata": {},
   "outputs": [
    {
     "name": "stdout",
     "output_type": "stream",
     "text": [
      "20\n"
     ]
    }
   ],
   "source": [
    "multiply = lambda x,y: x*y\n",
    "print(multiply(4,5))"
   ]
  }
 ],
 "metadata": {
  "kernelspec": {
   "display_name": "Python 3",
   "language": "python",
   "name": "python3"
  },
  "language_info": {
   "codemirror_mode": {
    "name": "ipython",
    "version": 3
   },
   "file_extension": ".py",
   "mimetype": "text/x-python",
   "name": "python",
   "nbconvert_exporter": "python",
   "pygments_lexer": "ipython3",
   "version": "3.13.3"
  }
 },
 "nbformat": 4,
 "nbformat_minor": 5
}
