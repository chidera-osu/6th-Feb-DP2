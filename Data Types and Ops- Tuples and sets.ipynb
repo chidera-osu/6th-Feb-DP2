{
 "cells": [
  {
   "cell_type": "code",
   "execution_count": 40,
   "id": "2ed050d9",
   "metadata": {},
   "outputs": [
    {
     "name": "stdout",
     "output_type": "stream",
     "text": [
      "<class 'tuple'>\n",
      "('red', 'green', 'fuchsia')\n"
     ]
    }
   ],
   "source": [
    "my_colors = ('red', 'green','fuchsia')\n",
    "print(type(my_colors))\n",
    "print(my_colors)"
   ]
  },
  {
   "cell_type": "code",
   "execution_count": 41,
   "id": "5b2b4f80",
   "metadata": {},
   "outputs": [
    {
     "name": "stdout",
     "output_type": "stream",
     "text": [
      "<class 'list'>\n",
      "['red', 'orange', 'purple']\n"
     ]
    }
   ],
   "source": [
    "used_colors = ['red', 'orange','purple']\n",
    "print(type(used_colors))\n",
    "print(used_colors)"
   ]
  },
  {
   "cell_type": "markdown",
   "id": "9ec792ce",
   "metadata": {},
   "source": [
    "## Wahalla dey this one"
   ]
  },
  {
   "cell_type": "code",
   "execution_count": null,
   "id": "d244621b",
   "metadata": {},
   "outputs": [],
   "source": [
    "for colour in used_colors:\n",
    "    my_colors.add(colour)\n",
    "print (my_colors)"
   ]
  },
  {
   "cell_type": "code",
   "execution_count": 42,
   "id": "79399aed",
   "metadata": {},
   "outputs": [
    {
     "name": "stdout",
     "output_type": "stream",
     "text": [
      "('red', 'green', 'fuchsia', 'red', 'orange', 'purple')\n"
     ]
    }
   ],
   "source": [
    "for color in used_colors:\n",
    "    my_colors = my_colors + (color,)\n",
    "print(my_colors)"
   ]
  },
  {
   "cell_type": "code",
   "execution_count": 43,
   "id": "236f4abb",
   "metadata": {},
   "outputs": [
    {
     "name": "stdout",
     "output_type": "stream",
     "text": [
      "('fuchsia', 'turquoise')\n",
      "<class 'tuple'>\n"
     ]
    }
   ],
   "source": [
    "intersecting_colors = ('fuchsia', 'turquoise')\n",
    "print(intersecting_colors)\n",
    "print(type(intersecting_colors))"
   ]
  },
  {
   "cell_type": "code",
   "execution_count": null,
   "id": "ea44a08a",
   "metadata": {},
   "outputs": [],
   "source": [
    "print(my_colors & intersecting_colors)"
   ]
  },
  {
   "cell_type": "code",
   "execution_count": null,
   "id": "acec253a",
   "metadata": {},
   "outputs": [
    {
     "name": "stdout",
     "output_type": "stream",
     "text": [
      "{'fuchsia'}\n"
     ]
    }
   ],
   "source": [
    "my_interesting_colors = set(my_colors) & set(intersecting_colors)\n",
    "print(my_interesting_colors)\n"
   ]
  },
  {
   "cell_type": "code",
   "execution_count": null,
   "id": "a5ae7fc9",
   "metadata": {},
   "outputs": [
    {
     "name": "stdout",
     "output_type": "stream",
     "text": [
      "False\n"
     ]
    }
   ],
   "source": [
    "print('brown' in my_colors)\n"
   ]
  },
  {
   "cell_type": "code",
   "execution_count": 54,
   "id": "94475942",
   "metadata": {},
   "outputs": [
    {
     "name": "stdout",
     "output_type": "stream",
     "text": [
      "frozenset({'fuchsia', 'green', 'red'})\n"
     ]
    }
   ],
   "source": [
    "frozen_colors = frozenset(my_colors)\n",
    "print(frozen_colors)\n"
   ]
  },
  {
   "cell_type": "code",
   "execution_count": 57,
   "id": "3828a67e",
   "metadata": {},
   "outputs": [
    {
     "ename": "AttributeError",
     "evalue": "'frozenset' object has no attribute 'add'",
     "output_type": "error",
     "traceback": [
      "\u001b[31m---------------------------------------------------------------------------\u001b[39m",
      "\u001b[31mAttributeError\u001b[39m                            Traceback (most recent call last)",
      "\u001b[36mCell\u001b[39m\u001b[36m \u001b[39m\u001b[32mIn[57]\u001b[39m\u001b[32m, line 1\u001b[39m\n\u001b[32m----> \u001b[39m\u001b[32m1\u001b[39m \u001b[43mfrozen_colors\u001b[49m\u001b[43m.\u001b[49m\u001b[43madd\u001b[49m(\u001b[33m'\u001b[39m\u001b[33mindigo\u001b[39m\u001b[33m'\u001b[39m)\n",
      "\u001b[31mAttributeError\u001b[39m: 'frozenset' object has no attribute 'add'"
     ]
    }
   ],
   "source": [
    "frozen_colors.add('indigo')"
   ]
  }
 ],
 "metadata": {
  "kernelspec": {
   "display_name": "Python 3",
   "language": "python",
   "name": "python3"
  },
  "language_info": {
   "codemirror_mode": {
    "name": "ipython",
    "version": 3
   },
   "file_extension": ".py",
   "mimetype": "text/x-python",
   "name": "python",
   "nbconvert_exporter": "python",
   "pygments_lexer": "ipython3",
   "version": "3.13.3"
  }
 },
 "nbformat": 4,
 "nbformat_minor": 5
}
