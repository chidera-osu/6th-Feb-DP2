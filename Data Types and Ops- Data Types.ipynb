{
 "cells": [
  {
   "cell_type": "code",
   "execution_count": 1,
   "id": "9d2303be",
   "metadata": {},
   "outputs": [],
   "source": [
    "length = 56\n",
    "width = 34.56\n",
    "shape = 'rectangle'\n"
   ]
  },
  {
   "cell_type": "code",
   "execution_count": 3,
   "id": "eabc9c79",
   "metadata": {},
   "outputs": [
    {
     "name": "stdout",
     "output_type": "stream",
     "text": [
      "<class 'int'>\n",
      "<class 'float'>\n",
      "<class 'str'>\n"
     ]
    }
   ],
   "source": [
    "print(type(length))\n",
    "print(type(width))\n",
    "print(type(shape))\n"
   ]
  },
  {
   "cell_type": "code",
   "execution_count": 11,
   "id": "04a794ea",
   "metadata": {},
   "outputs": [
    {
     "name": "stdout",
     "output_type": "stream",
     "text": [
      "1935.3600000000001\n"
     ]
    }
   ],
   "source": [
    "area = length * width \n",
    "print(area)"
   ]
  },
  {
   "cell_type": "code",
   "execution_count": null,
   "id": "a5240413",
   "metadata": {},
   "outputs": [
    {
     "name": "stdout",
     "output_type": "stream",
     "text": [
      "181.12\n"
     ]
    }
   ],
   "source": [
    "perimeter = (length + width)*2\n",
    "print(perimeter)"
   ]
  },
  {
   "cell_type": "markdown",
   "id": "5f3e7541",
   "metadata": {},
   "source": [
    "### Tricky"
   ]
  },
  {
   "cell_type": "code",
   "execution_count": 12,
   "id": "9dae5d4f",
   "metadata": {},
   "outputs": [
    {
     "name": "stdout",
     "output_type": "stream",
     "text": [
      "1904\n"
     ]
    }
   ],
   "source": [
    "area_int = length * int(width)\n",
    "print(area_int)"
   ]
  },
  {
   "cell_type": "code",
   "execution_count": 50,
   "id": "1ebf8c20",
   "metadata": {},
   "outputs": [
    {
     "name": "stdout",
     "output_type": "stream",
     "text": [
      "False\n"
     ]
    }
   ],
   "source": [
    "print(type(area) == type(area_int))"
   ]
  },
  {
   "cell_type": "code",
   "execution_count": 14,
   "id": "dc7d6e9d",
   "metadata": {},
   "outputs": [
    {
     "name": "stdout",
     "output_type": "stream",
     "text": [
      "the area of the rectangle is 1904.\n"
     ]
    }
   ],
   "source": [
    "print(f'the area of the {shape} is {area_int}.')"
   ]
  },
  {
   "cell_type": "code",
   "execution_count": 21,
   "id": "4cba326d",
   "metadata": {},
   "outputs": [
    {
     "name": "stdout",
     "output_type": "stream",
     "text": [
      "The area of the rectangle is 1904 cm2\n"
     ]
    }
   ],
   "source": [
    "msg = ''.join(['The area of the ', shape, ' is ', str(area_int), ' cm2'])\n",
    "print(msg)"
   ]
  },
  {
   "cell_type": "code",
   "execution_count": null,
   "id": "e8a100d2",
   "metadata": {},
   "outputs": [
    {
     "name": "stdout",
     "output_type": "stream",
     "text": [
      "The unit of measurement is cm\n",
      "The unit of measurement is \n"
     ]
    }
   ],
   "source": [
    "print(f'The unit of measurement is {msg[-3:-1]}')"
   ]
  }
 ],
 "metadata": {
  "kernelspec": {
   "display_name": "Python 3",
   "language": "python",
   "name": "python3"
  },
  "language_info": {
   "codemirror_mode": {
    "name": "ipython",
    "version": 3
   },
   "file_extension": ".py",
   "mimetype": "text/x-python",
   "name": "python",
   "nbconvert_exporter": "python",
   "pygments_lexer": "ipython3",
   "version": "3.13.3"
  }
 },
 "nbformat": 4,
 "nbformat_minor": 5
}
