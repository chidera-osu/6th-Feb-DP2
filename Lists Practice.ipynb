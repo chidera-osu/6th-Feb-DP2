{
 "cells": [
  {
   "cell_type": "code",
   "execution_count": 9,
   "id": "789c05aa",
   "metadata": {},
   "outputs": [],
   "source": [
    "details = ['Chidera',19, ['skating','sewing', 'thomas']]"
   ]
  },
  {
   "cell_type": "code",
   "execution_count": 15,
   "id": "db971bac",
   "metadata": {},
   "outputs": [
    {
     "name": "stdout",
     "output_type": "stream",
     "text": [
      "My age is 19\n"
     ]
    }
   ],
   "source": [
    "details = ['Chidera',19, ['skating','sewing', 'thomas']]\n",
    "print('My age is ' + str(details[1]))"
   ]
  },
  {
   "cell_type": "code",
   "execution_count": 26,
   "id": "35593787",
   "metadata": {},
   "outputs": [
    {
     "name": "stdout",
     "output_type": "stream",
     "text": [
      "thomas\n"
     ]
    }
   ],
   "source": [
    "print(details[2][-1])"
   ]
  },
  {
   "cell_type": "code",
   "execution_count": 27,
   "id": "32594f3d",
   "metadata": {},
   "outputs": [
    {
     "name": "stdout",
     "output_type": "stream",
     "text": [
      "['Chidera', 19, ['skating', 'sewing', 'thomas'], 'chichimoon3015@gmail.com']\n"
     ]
    }
   ],
   "source": [
    "details.append ('chichimoon3015@gmail.com')\n",
    "print(details)"
   ]
  },
  {
   "cell_type": "code",
   "execution_count": 28,
   "id": "9bb0ca6f",
   "metadata": {},
   "outputs": [
    {
     "name": "stdout",
     "output_type": "stream",
     "text": [
      "['Chidera', 19, ['skating', 'sewing', 'thomas'], 'chichimoon3015@gmail.com']\n"
     ]
    }
   ],
   "source": [
    "print(details)"
   ]
  },
  {
   "cell_type": "code",
   "execution_count": 42,
   "id": "1c35b16a",
   "metadata": {},
   "outputs": [
    {
     "name": "stdout",
     "output_type": "stream",
     "text": [
      "[]\n"
     ]
    }
   ],
   "source": [
    "details_copy = []\n",
    "print(details_copy)"
   ]
  },
  {
   "cell_type": "code",
   "execution_count": 43,
   "id": "2ad386b5",
   "metadata": {},
   "outputs": [],
   "source": [
    "for item in details: \n",
    "    details_copy.append(item)"
   ]
  },
  {
   "cell_type": "code",
   "execution_count": 44,
   "id": "f94f9422",
   "metadata": {},
   "outputs": [
    {
     "name": "stdout",
     "output_type": "stream",
     "text": [
      "['Chidera', 19, ['skating', 'sewing', 'thomas'], 'chichimoon3015@gmail.com']\n"
     ]
    }
   ],
   "source": [
    "print(details_copy)"
   ]
  },
  {
   "cell_type": "code",
   "execution_count": null,
   "id": "fa106e62",
   "metadata": {},
   "outputs": [
    {
     "data": {
      "text/plain": [
       "'chichimoon3015@gmail.com'"
      ]
     },
     "execution_count": 52,
     "metadata": {},
     "output_type": "execute_result"
    }
   ],
   "source": [
    "(details_copy.pop(3))"
   ]
  },
  {
   "cell_type": "code",
   "execution_count": 50,
   "id": "5c52dfd7",
   "metadata": {},
   "outputs": [
    {
     "name": "stdout",
     "output_type": "stream",
     "text": [
      "['Chidera', 19, ['skating', 'sewing', 'thomas']]\n"
     ]
    }
   ],
   "source": [
    "print(details_copy)"
   ]
  },
  {
   "cell_type": "code",
   "execution_count": 65,
   "id": "04fe502c",
   "metadata": {},
   "outputs": [
    {
     "name": "stdout",
     "output_type": "stream",
     "text": [
      "i have 3 hobbies\n"
     ]
    }
   ],
   "source": [
    "print(f'i have ' + str(len(details_copy))+ ' hobbies')"
   ]
  },
  {
   "cell_type": "code",
   "execution_count": 67,
   "id": "64e5833b",
   "metadata": {},
   "outputs": [
    {
     "name": "stdout",
     "output_type": "stream",
     "text": [
      "[19, 'Chidera', ['skating', 'sewing', 'thomas']]\n"
     ]
    }
   ],
   "source": [
    "details_copy.sort(key=str)\n",
    "print(details_copy)"
   ]
  }
 ],
 "metadata": {
  "kernelspec": {
   "display_name": "Python 3",
   "language": "python",
   "name": "python3"
  },
  "language_info": {
   "codemirror_mode": {
    "name": "ipython",
    "version": 3
   },
   "file_extension": ".py",
   "mimetype": "text/x-python",
   "name": "python",
   "nbconvert_exporter": "python",
   "pygments_lexer": "ipython3",
   "version": "3.13.3"
  }
 },
 "nbformat": 4,
 "nbformat_minor": 5
}
