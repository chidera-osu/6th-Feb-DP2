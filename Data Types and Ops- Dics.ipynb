{
 "cells": [
  {
   "cell_type": "code",
   "execution_count": null,
   "id": "e13ecd3d",
   "metadata": {},
   "outputs": [
    {
     "name": "stdout",
     "output_type": "stream",
     "text": [
      "{'Title': 'Call of Duty: Warzone', 'Price': 25.9, 'Platform': ['PS5', 'Xbox', 'Steam', 'Mobile']}\n",
      "<class 'dict'>\n"
     ]
    }
   ],
   "source": [
    "game = {'Title' : 'Call of Duty: Warzone', 'Price' : 25.90, 'Platform': ['PS5', 'Xbox', 'Steam','Mobile']}\n",
    "print(game)\n",
    "print(game)\n"
   ]
  },
  {
   "cell_type": "code",
   "execution_count": 5,
   "id": "0819d3c2",
   "metadata": {},
   "outputs": [
    {
     "name": "stdout",
     "output_type": "stream",
     "text": [
      "23.31\n"
     ]
    }
   ],
   "source": [
    "print(game ['Price'] * 0.9)"
   ]
  },
  {
   "cell_type": "code",
   "execution_count": 8,
   "id": "0d7ee331",
   "metadata": {},
   "outputs": [
    {
     "name": "stdout",
     "output_type": "stream",
     "text": [
      "{'Title': 'Call of Duty: Warzone', 'Price': 25.9, 'Platform': ['PS5', 'Xbox', 'Steam', 'Mobile'], 'Rating': [4.59]}\n"
     ]
    }
   ],
   "source": [
    "game ['Rating'] =[4.59] \n",
    "print(game)"
   ]
  },
  {
   "cell_type": "code",
   "execution_count": 9,
   "id": "db0a8416",
   "metadata": {},
   "outputs": [
    {
     "name": "stdout",
     "output_type": "stream",
     "text": [
      "{'Title': 'Call of Duty: Warzone', 'Price': 25.9, 'Platform': ['PS5', 'Xbox', 'Steam', 'Mobile'], 'Rating': [4.59], 'Year_Released': [2018]}\n"
     ]
    }
   ],
   "source": [
    "game ['Year_Released'] = [2018]\n",
    "print(game)"
   ]
  },
  {
   "cell_type": "code",
   "execution_count": null,
   "id": "572e78e5",
   "metadata": {},
   "outputs": [
    {
     "name": "stdout",
     "output_type": "stream",
     "text": [
      "{'Title': 'Call of Duty: Warzone', 'Price': 25.9, 'Rating': [4.59], 'Year_Released': [2018]}\n"
     ]
    }
   ],
   "source": [
    "del(game ['Platform'])\n"
   ]
  },
  {
   "cell_type": "code",
   "execution_count": 19,
   "id": "57aedf63",
   "metadata": {},
   "outputs": [
    {
     "name": "stdout",
     "output_type": "stream",
     "text": [
      "Title\n",
      "Price\n",
      "Rating\n",
      "Year_Released\n"
     ]
    }
   ],
   "source": [
    "for key in game.keys():\n",
    "    print(key)"
   ]
  },
  {
   "cell_type": "code",
   "execution_count": null,
   "id": "a53abf20",
   "metadata": {},
   "outputs": [
    {
     "name": "stdout",
     "output_type": "stream",
     "text": [
      "Call of Duty: Warzone\n",
      "25.9\n",
      "[4.59]\n",
      "[2018]\n"
     ]
    }
   ],
   "source": [
    "\n",
    "for value in game.values():\n",
    "    print(value) == list\n",
    "    "
   ]
  },
  {
   "cell_type": "code",
   "execution_count": null,
   "id": "c8c680f3",
   "metadata": {},
   "outputs": [
    {
     "name": "stdout",
     "output_type": "stream",
     "text": [
      "['Call of Duty: Warzone', 25.9, [4.59], [2018]]\n",
      "<class 'list'>\n"
     ]
    }
   ],
   "source": [
    "game_list = list(game.values())\n",
    "print(game_list)\n",
    "print(type(game_list))"
   ]
  },
  {
   "cell_type": "code",
   "execution_count": null,
   "id": "f3e856e2",
   "metadata": {},
   "outputs": [],
   "source": []
  },
  {
   "cell_type": "code",
   "execution_count": 31,
   "id": "46b5e010",
   "metadata": {},
   "outputs": [
    {
     "name": "stdout",
     "output_type": "stream",
     "text": [
      "{'Publisher': 'X', 'dlc_available': 'yes'}\n"
     ]
    }
   ],
   "source": [
    "game_additional = {'Publisher' : 'X', 'dlc_available' : 'yes'}\n",
    "print(game_additional)"
   ]
  },
  {
   "cell_type": "code",
   "execution_count": 34,
   "id": "c830fdb3",
   "metadata": {},
   "outputs": [
    {
     "name": "stdout",
     "output_type": "stream",
     "text": [
      "{'Title': 'Call of Duty: Warzone', 'Price': 25.9, 'Rating': [4.59], 'Year_Released': [2018], 'Publisher': 'X', 'dlc_available': 'yes'}\n"
     ]
    }
   ],
   "source": [
    "game.update(game_additional)\n",
    "print(game)"
   ]
  }
 ],
 "metadata": {
  "kernelspec": {
   "display_name": "Python 3",
   "language": "python",
   "name": "python3"
  },
  "language_info": {
   "codemirror_mode": {
    "name": "ipython",
    "version": 3
   },
   "file_extension": ".py",
   "mimetype": "text/x-python",
   "name": "python",
   "nbconvert_exporter": "python",
   "pygments_lexer": "ipython3",
   "version": "3.13.3"
  }
 },
 "nbformat": 4,
 "nbformat_minor": 5
}
