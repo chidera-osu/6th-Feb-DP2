{
 "cells": [
  {
   "cell_type": "code",
   "execution_count": null,
   "id": "631dee97",
   "metadata": {},
   "outputs": [],
   "source": [
    "import random\n",
    "\n",
    "def generate_random_file(filename, number_of_lines):\n",
    "    fruits = [\"apple\", \"banana\", \"cherry\", \"mango\", \"orange\"]\n",
    "    with open(filename, \"w\") as file:\n",
    "        for _ in range(number_of_lines):\n",
    "            if random.random() < 0.5:\n",
    "                file.write(str(random.randint(1, 1000)) + \"\\n\")\n",
    "            else:\n",
    "                file.write(random.choice(fruits) + \"\\n\")\n"
   ]
  },
  {
   "cell_type": "code",
   "execution_count": null,
   "id": "c7609de0",
   "metadata": {},
   "outputs": [],
   "source": [
    "def generate_file_1():\n",
    "    generate_random_file(\"file_1.txt\", 25)"
   ]
  },
  {
   "cell_type": "code",
   "execution_count": null,
   "id": "7d811512",
   "metadata": {},
   "outputs": [],
   "source": [
    "def read_and_print_file(filename):\n",
    "    try:\n",
    "        with open(filename, \"r\") as file:\n",
    "            for line in file:\n",
    "                print(line.strip())\n",
    "    except FileNotFoundError:\n",
    "        print(\"File not found.\")"
   ]
  },
  {
   "cell_type": "code",
   "execution_count": null,
   "id": "72c30598",
   "metadata": {},
   "outputs": [],
   "source": [
    "def count_lines(filename):\n",
    "    try:\n",
    "        with open(filename, \"r\") as file:\n",
    "            return len(file.readlines())\n",
    "    except FileNotFoundError:\n",
    "        print(\"File not found.\")\n",
    "        return 0"
   ]
  },
  {
   "cell_type": "code",
   "execution_count": null,
   "id": "00ed2996",
   "metadata": {},
   "outputs": [],
   "source": [
    "def copy_file(source_file, destination_file):\n",
    "    try:\n",
    "        with open(source_file, \"r\") as src:\n",
    "            content = src.read()\n",
    "        with open(destination_file, \"w\") as dest:\n",
    "            dest.write(content)\n",
    "    except FileNotFoundError:\n",
    "        print(\"Source file not found.\")\n"
   ]
  },
  {
   "cell_type": "code",
   "execution_count": null,
   "id": "c66e3231",
   "metadata": {},
   "outputs": [],
   "source": [
    "def sum_numeric_lines(filename):\n",
    "    total = 0\n",
    "    try:\n",
    "        with open(filename, \"r\") as file:\n",
    "            for line in file:\n",
    "                line = line.strip()\n",
    "                if line.isdigit():\n",
    "                    total += int(line)\n",
    "        return total\n",
    "    except FileNotFoundError:\n",
    "        print(\"File not found.\")\n",
    "        return 0"
   ]
  },
  {
   "cell_type": "code",
   "execution_count": null,
   "id": "90a65baf",
   "metadata": {},
   "outputs": [],
   "source": [
    "def print_file_dashboard(filename):\n",
    "    try:\n",
    "        with open(filename, \"r\") as file:\n",
    "            content = file.read()\n",
    "            lines = content.splitlines()\n",
    "            words = content.split()\n",
    "            characters = len(content)\n",
    "            print(f\"Lines: {len(lines)}\")\n",
    "            print(f\"Words: {len(words)}\")\n",
    "            print(f\"Characters: {characters}\")\n",
    "    except FileNotFoundError:\n",
    "        print(\"File not found.\")"
   ]
  },
  {
   "cell_type": "code",
   "execution_count": null,
   "id": "d7b2209f",
   "metadata": {},
   "outputs": [],
   "source": [
    "def log_category_count(filename):\n",
    "    categories = {}\n",
    "    try:\n",
    "        with open(filename, \"r\") as file:\n",
    "            for line in file:\n",
    "                parts = line.strip().split()\n",
    "                if len(parts) >= 3:\n",
    "                    category = parts[2].replace(\":\", \"\").upper()\n",
    "                    categories[category] = categories.get(category, 0) + 1\n",
    "        return categories\n",
    "    except FileNotFoundError:\n",
    "        print(\"File not found.\")\n",
    "        return {}"
   ]
  }
 ],
 "metadata": {
  "language_info": {
   "name": "python"
  }
 },
 "nbformat": 4,
 "nbformat_minor": 5
}
