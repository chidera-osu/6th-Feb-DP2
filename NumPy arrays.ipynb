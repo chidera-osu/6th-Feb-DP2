{
 "cells": [
  {
   "cell_type": "code",
   "execution_count": null,
   "id": "f1182c35",
   "metadata": {},
   "outputs": [],
   "source": [
    "import numpy as np\n",
    "import random"
   ]
  },
  {
   "cell_type": "code",
   "execution_count": null,
   "id": "68f4cdfa",
   "metadata": {},
   "outputs": [],
   "source": [
    "def generate_temperature(min_temp, max_temp, count):\n",
    "    return [random.randint(min_temp, max_temp) for _ in range(count)]"
   ]
  },
  {
   "cell_type": "code",
   "execution_count": null,
   "id": "06c0bec4",
   "metadata": {},
   "outputs": [],
   "source": [
    "temperature_data = np.random.randint(15, 36, size=(5, 7))"
   ]
  },
  {
   "cell_type": "code",
   "execution_count": null,
   "id": "2ae55d34",
   "metadata": {},
   "outputs": [],
   "source": [
    "print(\"Shape of temperature_data:\", temperature_data.shape)"
   ]
  },
  {
   "cell_type": "code",
   "execution_count": null,
   "id": "0b770df0",
   "metadata": {},
   "outputs": [],
   "source": [
    "overall_avg = np.mean(temperature_data)\n",
    "print(\"Overall average temperature (°C):\", round(overall_avg, 2))"
   ]
  },
  {
   "cell_type": "code",
   "execution_count": null,
   "id": "ce4dd4db",
   "metadata": {},
   "outputs": [],
   "source": [
    "avg_per_city = np.mean(temperature_data, axis=1)\n",
    "print(\"Average temperature per city (°C):\", avg_per_city)"
   ]
  },
  {
   "cell_type": "code",
   "execution_count": null,
   "id": "bd220272",
   "metadata": {},
   "outputs": [],
   "source": [
    "city_b_days_1_3 = temperature_data[1, :3]\n",
    "print(\"City B - first 3 days:\", city_b_days_1_3)"
   ]
  },
  {
   "cell_type": "code",
   "execution_count": null,
   "id": "27938874",
   "metadata": {},
   "outputs": [],
   "source": [
    "temperature_f = (temperature_data * 9/5) + 32\n",
    "print(\"Average temperature (°F):\", round(np.mean(temperature_f), 2))"
   ]
  },
  {
   "cell_type": "code",
   "execution_count": null,
   "id": "c8e4e2e8",
   "metadata": {},
   "outputs": [],
   "source": [
    "city_d = temperature_data[3]\n",
    "max_day_d = np.argmax(city_d)\n",
    "print(f\"City D's hottest day: Day {max_day_d + 1} with {city_d[max_day_d]}°C\")"
   ]
  },
  {
   "cell_type": "code",
   "execution_count": null,
   "id": "f885234a",
   "metadata": {},
   "outputs": [],
   "source": [
    "all_temps = temperature_data.flatten()\n",
    "print(\"All temperatures (flattened):\", all_temps)"
   ]
  },
  {
   "cell_type": "code",
   "execution_count": null,
   "id": "7f6f691d",
   "metadata": {},
   "outputs": [],
   "source": [
    "fluctuations = np.ptp(temperature_data, axis=1)\n",
    "print(\"Temperature fluctuations per city:\", fluctuations)\n",
    "print(\"Highest fluctuation among cities:\", np.max(fluctuations))\n"
   ]
  },
  {
   "cell_type": "code",
   "execution_count": null,
   "id": "b548e9ee",
   "metadata": {},
   "outputs": [],
   "source": [
    "weights = np.linspace(0, 1, 7)\n",
    "weighted_temps = temperature_data * weights\n",
    "print(\"Weighted temperatures (per day weights):\\n\", np.round(weighted_temps, 1))\n"
   ]
  },
  {
   "cell_type": "code",
   "execution_count": null,
   "id": "41fe9193",
   "metadata": {},
   "outputs": [],
   "source": [
    "heat_index = np.array([1.1, 1.2, 1.1, 1.3, 1.2, 1.1, 1.2])\n",
    "total_heat_index = np.sum(temperature_data * heat_index, axis=1)\n",
    "print(\"Total heat index per city:\", np.round(total_heat_index, 2))"
   ]
  }
 ],
 "metadata": {
  "language_info": {
   "name": "python"
  }
 },
 "nbformat": 4,
 "nbformat_minor": 5
}
