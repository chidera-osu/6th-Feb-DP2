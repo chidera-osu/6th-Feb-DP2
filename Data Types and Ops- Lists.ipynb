{
 "cells": [
  {
   "cell_type": "code",
   "execution_count": 1,
   "id": "762b5a1f",
   "metadata": {},
   "outputs": [
    {
     "name": "stdout",
     "output_type": "stream",
     "text": [
      "['Chidera', 19, ['skating', 'sewing', 'eating', 'thomas']]\n"
     ]
    }
   ],
   "source": [
    "details = ['Chidera', 19,['skating', 'sewing','eating','thomas']]\n",
    "print(details)"
   ]
  },
  {
   "cell_type": "code",
   "execution_count": 2,
   "id": "e1b97b3b",
   "metadata": {},
   "outputs": [
    {
     "name": "stdout",
     "output_type": "stream",
     "text": [
      "My Age is 19\n"
     ]
    }
   ],
   "source": [
    "print(f'My Age is ' + str(details[1]))"
   ]
  },
  {
   "cell_type": "code",
   "execution_count": 4,
   "id": "df9a701d",
   "metadata": {},
   "outputs": [
    {
     "name": "stdout",
     "output_type": "stream",
     "text": [
      "My name is Chidera\n"
     ]
    }
   ],
   "source": [
    "print(f'My name is ' + str(details[0]))"
   ]
  },
  {
   "cell_type": "code",
   "execution_count": 5,
   "id": "2a6f8c1d",
   "metadata": {},
   "outputs": [
    {
     "name": "stdout",
     "output_type": "stream",
     "text": [
      "thomas\n"
     ]
    }
   ],
   "source": [
    "print(details[2][-1])"
   ]
  },
  {
   "cell_type": "code",
   "execution_count": 7,
   "id": "376f5d01",
   "metadata": {},
   "outputs": [
    {
     "name": "stdout",
     "output_type": "stream",
     "text": [
      "['Chidera', 19, ['skating', 'sewing', 'eating', 'thomas'], 'chideraosuwah15@gmail.com', 'chideraosuwah15@gmail.com']\n"
     ]
    }
   ],
   "source": [
    "details.append('chideraosuwah15@gmail.com')\n",
    "print(details)"
   ]
  },
  {
   "cell_type": "code",
   "execution_count": 8,
   "id": "a572412a",
   "metadata": {},
   "outputs": [],
   "source": [
    "details[2].append('Sims 4')"
   ]
  },
  {
   "cell_type": "code",
   "execution_count": 9,
   "id": "90416385",
   "metadata": {},
   "outputs": [
    {
     "name": "stdout",
     "output_type": "stream",
     "text": [
      "['Chidera', 19, ['skating', 'sewing', 'eating', 'thomas', 'Sims 4'], 'chideraosuwah15@gmail.com', 'chideraosuwah15@gmail.com']\n"
     ]
    }
   ],
   "source": [
    "print(details)"
   ]
  },
  {
   "cell_type": "code",
   "execution_count": 14,
   "id": "b0ed1bbd",
   "metadata": {},
   "outputs": [],
   "source": [
    "details_copy = []"
   ]
  },
  {
   "cell_type": "code",
   "execution_count": 18,
   "id": "cc3cba0f",
   "metadata": {},
   "outputs": [],
   "source": [
    "for item in details:\n",
    "    details_copy.append(item)"
   ]
  },
  {
   "cell_type": "code",
   "execution_count": 30,
   "id": "d065fcc4",
   "metadata": {},
   "outputs": [
    {
     "name": "stdout",
     "output_type": "stream",
     "text": [
      "['Chidera', 19, ['skating', 'sewing', 'eating', 'thomas', 'Sims 4']]\n"
     ]
    }
   ],
   "source": [
    "print(details_copy)"
   ]
  },
  {
   "cell_type": "code",
   "execution_count": null,
   "id": "df72f455",
   "metadata": {},
   "outputs": [
    {
     "ename": "IndexError",
     "evalue": "pop index out of range",
     "output_type": "error",
     "traceback": [
      "\u001b[31m---------------------------------------------------------------------------\u001b[39m",
      "\u001b[31mIndexError\u001b[39m                                Traceback (most recent call last)",
      "\u001b[36mCell\u001b[39m\u001b[36m \u001b[39m\u001b[32mIn[23]\u001b[39m\u001b[32m, line 1\u001b[39m\n\u001b[32m----> \u001b[39m\u001b[32m1\u001b[39m \u001b[43mdetails_copy\u001b[49m\u001b[43m.\u001b[49m\u001b[43mpop\u001b[49m\u001b[43m(\u001b[49m\u001b[32;43m4\u001b[39;49m\u001b[43m)\u001b[49m\n",
      "\u001b[31mIndexError\u001b[39m: pop index out of range"
     ]
    }
   ],
   "source": [
    "details_copy.pop(3)\n"
   ]
  },
  {
   "cell_type": "code",
   "execution_count": 33,
   "id": "fa86b6dd",
   "metadata": {},
   "outputs": [
    {
     "name": "stdout",
     "output_type": "stream",
     "text": [
      "I have 5 hobbies\n"
     ]
    }
   ],
   "source": [
    "print(f'I have ' + str(len(details_copy[2]))+ ' hobbies')"
   ]
  },
  {
   "cell_type": "code",
   "execution_count": 34,
   "id": "790be610",
   "metadata": {},
   "outputs": [],
   "source": [
    "details_copy.sort(key=str)"
   ]
  }
 ],
 "metadata": {
  "kernelspec": {
   "display_name": "Python 3",
   "language": "python",
   "name": "python3"
  },
  "language_info": {
   "codemirror_mode": {
    "name": "ipython",
    "version": 3
   },
   "file_extension": ".py",
   "mimetype": "text/x-python",
   "name": "python",
   "nbconvert_exporter": "python",
   "pygments_lexer": "ipython3",
   "version": "3.13.3"
  }
 },
 "nbformat": 4,
 "nbformat_minor": 5
}
