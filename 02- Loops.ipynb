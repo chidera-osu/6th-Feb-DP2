{
 "cells": [
  {
   "cell_type": "markdown",
   "metadata": {},
   "source": [
    "### Lopps \n",
    "\n",
    "Loops are used to repeat a block of come repeatedly until some condition is met. \n",
    "\n",
    "There are two loops in Python \n",
    "''while' and 'for'\n",
    "\n",
    "### While Loop\n",
    "a while loop executes as long as a condition is true, only stops when a condition is false "
   ]
  },
  {
   "cell_type": "code",
   "execution_count": null,
   "metadata": {},
   "outputs": [
    {
     "name": "stdout",
     "output_type": "stream",
     "text": [
      "5\n",
      "6\n",
      "7\n",
      "8\n",
      "9\n"
     ]
    }
   ],
   "source": [
    "x = 5 \n",
    "while x < 10: \n",
    "    print(x)\n",
    "        # this creates an infinate loop\n",
    "    x+=1\n",
    "    # this stops the looping \n",
    "\n",
    "\n"
   ]
  },
  {
   "cell_type": "code",
   "execution_count": null,
   "metadata": {},
   "outputs": [
    {
     "ename": "NameError",
     "evalue": "name 'password' is not defined",
     "output_type": "error",
     "traceback": [
      "\u001b[1;31m---------------------------------------------------------------------------\u001b[0m",
      "\u001b[1;31mNameError\u001b[0m                                 Traceback (most recent call last)",
      "Cell \u001b[1;32mIn[7], line 2\u001b[0m\n\u001b[0;32m      1\u001b[0m \u001b[38;5;66;03m# keep looping until the user inputs the correct passwprd\u001b[39;00m\n\u001b[1;32m----> 2\u001b[0m \u001b[43mpassword\u001b[49m \u001b[38;5;241m==\u001b[39m Sony_WH4\n\u001b[0;32m      3\u001b[0m \u001b[38;5;28;01mwhile\u001b[39;00m password \u001b[38;5;241m!=\u001b[39m (Sony_WH4):\n\u001b[0;32m      4\u001b[0m     \u001b[38;5;28mprint\u001b[39m(\u001b[38;5;124m'\u001b[39m\u001b[38;5;124mwrong password\u001b[39m\u001b[38;5;124m'\u001b[39m)\n",
      "\u001b[1;31mNameError\u001b[0m: name 'password' is not defined"
     ]
    }
   ],
   "source": [
    "# keep looping until the user inputs the correct passwprd\n",
    "password1 == Sony_WH4\n",
    "while password != (Sony_WH4):\n",
    "    print('wrong password')\n"
   ]
  },
  {
   "cell_type": "markdown",
   "metadata": {},
   "source": [
    "Alan's"
   ]
  },
  {
   "cell_type": "code",
   "execution_count": 11,
   "metadata": {},
   "outputs": [],
   "source": [
    "password = ''\n",
    "while password != 'peach':\n",
    "    password = input ('Enter password')"
   ]
  },
  {
   "cell_type": "markdown",
   "metadata": {},
   "source": [
    "### For Loop \n",
    "Used to interate over a sequence (such as list, dicitionary, string) or using range."
   ]
  },
  {
   "cell_type": "code",
   "execution_count": 27,
   "metadata": {},
   "outputs": [
    {
     "name": "stdout",
     "output_type": "stream",
     "text": [
      "apple\n",
      "orange\n",
      "kiwi\n"
     ]
    }
   ],
   "source": [
    "# Print ever fruit individually\n",
    "fruits = ['apple','orange','kiwi']\n",
    "\n",
    "for fruit in fruits:\n",
    "    print(fruit)"
   ]
  },
  {
   "cell_type": "code",
   "execution_count": 23,
   "metadata": {},
   "outputs": [
    {
     "name": "stdout",
     "output_type": "stream",
     "text": [
      "10\n",
      "11\n",
      "12\n",
      "13\n",
      "14\n",
      "15\n",
      "16\n",
      "17\n",
      "18\n",
      "19\n",
      "20\n"
     ]
    }
   ],
   "source": [
    "# print a range of numbers from 10 to 20\n",
    "for num in range (10,21):\n",
    "        print(num)"
   ]
  },
  {
   "cell_type": "code",
   "execution_count": 28,
   "metadata": {},
   "outputs": [
    {
     "name": "stdout",
     "output_type": "stream",
     "text": [
      "apple - index 0\n",
      "orange - index 1\n",
      "kiwi - index 2\n"
     ]
    }
   ],
   "source": [
    "# print every fruit and its index\n",
    "\n",
    "fruits = ['apple','orange','kiwi']\n",
    "\n",
    "for index, fruit in enumerate(fruits):\n",
    "    print (f'{fruit} - index {index}')"
   ]
  },
  {
   "cell_type": "code",
   "execution_count": 19,
   "metadata": {},
   "outputs": [
    {
     "name": "stdout",
     "output_type": "stream",
     "text": [
      "Alex\n",
      "20\n",
      "skating\n"
     ]
    }
   ],
   "source": [
    "details = {'name':'Alex', 'age':20, 'hobby':'skating'}\n",
    "for i in details:\n",
    "        print(details[i])"
   ]
  },
  {
   "cell_type": "code",
   "execution_count": 29,
   "metadata": {},
   "outputs": [
    {
     "name": "stdout",
     "output_type": "stream",
     "text": [
      "Key : name Value: Alex\n",
      "Key : Age Value: 20\n",
      "Key : hobby Value: skiing\n"
     ]
    }
   ],
   "source": [
    "details = {'name' : 'Alex', 'Age' : 20, 'hobby' : 'skiing'}\n",
    "for key, value in details.items():\n",
    "    print (f'Key : {key} Value: {value}')"
   ]
  },
  {
   "cell_type": "markdown",
   "metadata": {},
   "source": [
    "#### Loop control statements\n",
    "\n",
    "When inside a loop, one can use the following:\n",
    "\n",
    " `break` : exists the loop immediately\n",
    "\n",
    " `continue` : skips the rest of the code and starts the next iteration\n",
    "    \n",
    " `else` : executes code after a loop ends normally (without break)"
   ]
  },
  {
   "cell_type": "code",
   "execution_count": null,
   "metadata": {},
   "outputs": [
    {
     "name": "stdout",
     "output_type": "stream",
     "text": [
      "0\n",
      "1\n",
      "2\n"
     ]
    }
   ],
   "source": [
    "# break stoprs the loop iteration immdiatley \n",
    "# rest of code is not executed \n",
    "count = 0\n",
    "while True:\n",
    "        print (count)\n",
    "        count+=1\n",
    "        if count == 3:\n",
    "                break "
   ]
  },
  {
   "cell_type": "code",
   "execution_count": 34,
   "metadata": {},
   "outputs": [
    {
     "name": "stdout",
     "output_type": "stream",
     "text": [
      "1\n",
      "3\n",
      "5\n",
      "7\n",
      "9\n"
     ]
    }
   ],
   "source": [
    "count=0\n",
    "while True:\n",
    "    if count%2 == 0:\n",
    "        count+=1\n",
    "        continue\n",
    "    print(count)\n",
    "    count+=1\n",
    "    if count == 10:\n",
    "        break\n",
    "   "
   ]
  },
  {
   "cell_type": "code",
   "execution_count": 33,
   "metadata": {},
   "outputs": [
    {
     "name": "stdout",
     "output_type": "stream",
     "text": [
      "1\n",
      "3\n",
      "5\n",
      "7\n",
      "9\n",
      "Loop finished\n"
     ]
    }
   ],
   "source": [
    "count=0\n",
    "while count <10:\n",
    "    if count%2 ==0:\n",
    "        count +=1 \n",
    "        continue\n",
    "    print(count)\n",
    "    count +=1 \n",
    "else: \n",
    "    print('Loop finished')"
   ]
  },
  {
   "cell_type": "code",
   "execution_count": null,
   "metadata": {},
   "outputs": [],
   "source": []
  }
 ],
 "metadata": {
  "kernelspec": {
   "display_name": "psds",
   "language": "python",
   "name": "python3"
  },
  "language_info": {
   "codemirror_mode": {
    "name": "ipython",
    "version": 3
   },
   "file_extension": ".py",
   "mimetype": "text/x-python",
   "name": "python",
   "nbconvert_exporter": "python",
   "pygments_lexer": "ipython3",
   "version": "3.13.2"
  }
 },
 "nbformat": 4,
 "nbformat_minor": 2
}
